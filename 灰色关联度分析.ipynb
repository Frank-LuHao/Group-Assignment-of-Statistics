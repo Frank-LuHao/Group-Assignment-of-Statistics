{
 "cells": [
  {
   "cell_type": "markdown",
   "metadata": {},
   "source": [
    "1.导入库"
   ]
  },
  {
   "cell_type": "code",
   "execution_count": 16,
   "metadata": {},
   "outputs": [],
   "source": [
    "import numpy as np \n",
    "import pandas as pd \n",
    "import matplotlib.pyplot as plt"
   ]
  },
  {
   "cell_type": "markdown",
   "metadata": {},
   "source": [
    "2.变量初始化"
   ]
  },
  {
   "cell_type": "code",
   "execution_count": 17,
   "metadata": {},
   "outputs": [],
   "source": [
    "# 加载数据\n",
    "\n",
    "# 被解释变量\n",
    "house_price = pd.read_csv('商品建筑销售价格年初至今平均住宅.csv')\n",
    "# 解释变量\n",
    "house_sale_area = pd.read_csv('房屋销售面积35个城市住宅.csv') \n",
    "income = pd.read_csv('人均可支配收入.csv')\n",
    "all_populations = pd.read_csv('人口.csv')\n",
    "urban_rate  = pd.read_csv('人口数城镇化率常住.csv')\n",
    "house_tax = pd.read_csv('财政收入一般公共预算收入税收房产税.csv')"
   ]
  },
  {
   "cell_type": "code",
   "execution_count": 30,
   "metadata": {},
   "outputs": [],
   "source": [
    "# 列表变量定义\n",
    "x = [i for i in range(2007, 2024)] # x轴年份 2007-2023"
   ]
  },
  {
   "cell_type": "code",
   "execution_count": 29,
   "metadata": {},
   "outputs": [
    {
     "name": "stderr",
     "output_type": "stream",
     "text": [
      "C:\\Users\\25337\\AppData\\Local\\Temp\\ipykernel_14352\\2318963108.py:8: FutureWarning: Series.__getitem__ treating keys as positions is deprecated. In a future version, integer keys will always be treated as labels (consistent with DataFrame behavior). To access a value by position, use `ser.iloc[pos]`\n",
      "  y_house_price_month.append(float(row[1]))\n"
     ]
    },
    {
     "data": {
      "text/plain": [
       "17"
      ]
     },
     "execution_count": 29,
     "metadata": {},
     "output_type": "execute_result"
    }
   ],
   "source": [
    "# 房价\n",
    "y_house_price_month = []\n",
    "y_house_price_year = []\n",
    "\n",
    "start_row_house_price = 134\n",
    "count = 0\n",
    "for index, row in house_price.iloc[start_row_house_price:].iterrows():\n",
    "    y_house_price_month.append(float(row[1]))\n",
    "    count += 1\n",
    "    if count % 12 == 0:\n",
    "        y_house_price_year.append(sum(y_house_price_month) / 12)\n",
    "        y_house_price_month = []\n",
    "\n",
    "\n",
    "len(y_house_price_year)"
   ]
  },
  {
   "cell_type": "code",
   "execution_count": 32,
   "metadata": {},
   "outputs": [
    {
     "name": "stderr",
     "output_type": "stream",
     "text": [
      "C:\\Users\\25337\\AppData\\Local\\Temp\\ipykernel_14352\\742234643.py:11: FutureWarning: Series.__getitem__ treating keys as positions is deprecated. In a future version, integer keys will always be treated as labels (consistent with DataFrame behavior). To access a value by position, use `ser.iloc[pos]`\n",
      "  y_house_sale_area.append(float(row[1]))\n",
      "C:\\Users\\25337\\AppData\\Local\\Temp\\ipykernel_14352\\742234643.py:14: FutureWarning: Series.__getitem__ treating keys as positions is deprecated. In a future version, integer keys will always be treated as labels (consistent with DataFrame behavior). To access a value by position, use `ser.iloc[pos]`\n",
      "  y_income.append(float(row[1]))\n",
      "C:\\Users\\25337\\AppData\\Local\\Temp\\ipykernel_14352\\742234643.py:17: FutureWarning: Series.__getitem__ treating keys as positions is deprecated. In a future version, integer keys will always be treated as labels (consistent with DataFrame behavior). To access a value by position, use `ser.iloc[pos]`\n",
      "  y_house_tax.append(float(row[1]))\n"
     ]
    },
    {
     "data": {
      "text/plain": [
       "(17, 17, 17)"
      ]
     },
     "execution_count": 32,
     "metadata": {},
     "output_type": "execute_result"
    }
   ],
   "source": [
    "# 变量读取\n",
    "y_house_sale_area = []\n",
    "y_income = []\n",
    "y_house_tax = []\n",
    "\n",
    "start_row_house_sale_area = 36\n",
    "start_row_income = 59\n",
    "start_row_house_tax = 28\n",
    "\n",
    "for index, row in house_sale_area.iloc[start_row_house_sale_area:].iterrows():\n",
    "    y_house_sale_area.append(float(row[1]))\n",
    "\n",
    "for index, row in income.iloc[start_row_income:].iterrows():\n",
    "    y_income.append(float(row[1]))\n",
    "\n",
    "for index, row in house_tax.iloc[start_row_house_tax:].iterrows():\n",
    "    y_house_tax.append(float(row[1]))\n",
    "\n",
    "len(y_house_sale_area), len(y_income), len(y_house_tax)"
   ]
  },
  {
   "cell_type": "code",
   "execution_count": 25,
   "metadata": {},
   "outputs": [
    {
     "name": "stderr",
     "output_type": "stream",
     "text": [
      "C:\\Users\\25337\\AppData\\Local\\Temp\\ipykernel_14352\\1340348645.py:9: FutureWarning: Series.__getitem__ treating keys as positions is deprecated. In a future version, integer keys will always be treated as labels (consistent with DataFrame behavior). To access a value by position, use `ser.iloc[pos]`\n",
      "  y_all_populations.append(float(row[1]))\n",
      "C:\\Users\\25337\\AppData\\Local\\Temp\\ipykernel_14352\\1340348645.py:11: FutureWarning: Series.__getitem__ treating keys as positions is deprecated. In a future version, integer keys will always be treated as labels (consistent with DataFrame behavior). To access a value by position, use `ser.iloc[pos]`\n",
      "  y_urban_rate.append(float(row[1]))\n"
     ]
    }
   ],
   "source": [
    "# 城镇人口\n",
    "y_all_populations = []\n",
    "y_urban_rate = []\n",
    "y_urban_populations = []\n",
    "\n",
    "start_row_population = 86\n",
    "start_row_urban_rate = 53\n",
    "for index, row in all_populations.iloc[start_row_population:].iterrows():\n",
    "    y_all_populations.append(float(row[1]))\n",
    "for index, row in urban_rate.iloc[start_row_urban_rate:].iterrows():\n",
    "    y_urban_rate.append(float(row[1]))\n",
    "\n",
    "y_urban_populations = [a*b/100 for a, b in zip(y_all_populations, y_urban_rate)]"
   ]
  },
  {
   "cell_type": "markdown",
   "metadata": {},
   "source": [
    "3.数据预处理"
   ]
  },
  {
   "cell_type": "code",
   "execution_count": 34,
   "metadata": {},
   "outputs": [
    {
     "data": {
      "text/plain": [
       "[0.0,\n",
       " 0.013712274616718798,\n",
       " 0.11040783305859986,\n",
       " 0.17658323866774964,\n",
       " 0.23475392965879835,\n",
       " 0.2523085360273773,\n",
       " 0.35136252272393836,\n",
       " 0.3397214138018232,\n",
       " 0.39267567973695394,\n",
       " 0.5137920075942902,\n",
       " 0.5442656889343184,\n",
       " 0.6648243588792179,\n",
       " 0.7710233375788736,\n",
       " 0.8487933806174357,\n",
       " 0.9858726662182713,\n",
       " 0.8896185869570693,\n",
       " 1.0]"
      ]
     },
     "execution_count": 34,
     "metadata": {},
     "output_type": "execute_result"
    }
   ],
   "source": [
    "# 归一化\n",
    "y_house_price_year = [(i - min(y_house_price_year)) / (max(y_house_price_year) - min(y_house_price_year)) for i in y_house_price_year]\n",
    "\n",
    "y_house_sale_area = [(i - min(y_house_sale_area)) / (max(y_house_sale_area) - min(y_house_sale_area)) for i in y_house_sale_area]\n",
    "y_income = [(i - min(y_income)) / (max(y_income) - min(y_income)) for i in y_income]\n",
    "y_house_tax = [(i - min(y_house_tax)) / (max(y_house_tax) - min(y_house_tax)) for i in y_house_tax]\n",
    "y_urban_populations = [(i - min(y_urban_populations)) / (max(y_urban_populations) - min(y_urban_populations)) for i in y_urban_populations]\n",
    "\n",
    "y_house_price_year"
   ]
  },
  {
   "cell_type": "markdown",
   "metadata": {},
   "source": [
    "4.灰色关联度分析"
   ]
  },
  {
   "cell_type": "code",
   "execution_count": 35,
   "metadata": {},
   "outputs": [],
   "source": [
    "# 灰色关联度分析函数定义\n",
    "def grey_relational_analysis(ref_sequence, cmp_sequences, rho=0.5):\n",
    "    \"\"\"\n",
    "    灰色关联度分析\n",
    "    :param ref_sequence: 参考序列,numpy数组\n",
    "    :param cmp_sequences: 比较序列的列表,每个元素是numpy数组\n",
    "    :param rho: 分辨系数，通常在(0, 1)之间,默认0.5\n",
    "    :return: 关联度列表\n",
    "    \"\"\"\n",
    "    # 数据预处理 - 初始化算子（这里使用均值化）\n",
    "    ref_sequence = ref_sequence / np.mean(ref_sequence)\n",
    "    cmp_sequences = [seq / np.mean(seq) for seq in cmp_sequences]\n",
    "    \n",
    "    # 计算关联系数\n",
    "    n = len(ref_sequence)\n",
    "    m = len(cmp_sequences)\n",
    "    grey_relational_coefficient = np.zeros((m, n))\n",
    "    \n",
    "    min_diff = np.inf\n",
    "    max_diff = 0\n",
    "    \n",
    "    # 寻找最小差和最大差\n",
    "    for i in range(m):\n",
    "        diff = np.abs(ref_sequence - cmp_sequences[i])\n",
    "        min_diff = min(min_diff, np.min(diff))\n",
    "        max_diff = max(max_diff, np.max(diff))\n",
    "    \n",
    "    # 计算关联系数矩阵\n",
    "    for i in range(m):\n",
    "        diff = np.abs(ref_sequence - cmp_sequences[i])\n",
    "        grey_relational_coefficient[i, :] = (min_diff + rho * max_diff) / (diff + rho * max_diff)\n",
    "    \n",
    "    # 计算关联度\n",
    "    grey_relational_degree = np.mean(grey_relational_coefficient, axis=1)\n",
    "    \n",
    "    return grey_relational_degree"
   ]
  },
  {
   "cell_type": "code",
   "execution_count": 37,
   "metadata": {},
   "outputs": [
    {
     "name": "stdout",
     "output_type": "stream",
     "text": [
      "因素1与参考因素的关联度: 0.7025651616968775\n",
      "因素2与参考因素的关联度: 0.9247963127188182\n",
      "因素3与参考因素的关联度: 0.8917520089923784\n",
      "因素4与参考因素的关联度: 0.8455331059970925\n"
     ]
    }
   ],
   "source": [
    "ref_sequence = np.array(y_house_price_year)\n",
    "cmp_sequences = [\n",
    "    np.array(y_house_sale_area),\n",
    "    np.array(y_income),\n",
    "    np.array(y_urban_populations),\n",
    "    np.array(y_house_tax)\n",
    "]\n",
    "\n",
    "# 进行灰色关联度分析\n",
    "degrees = grey_relational_analysis(ref_sequence, cmp_sequences)\n",
    "\n",
    "# 输出关联度结果\n",
    "for i, degree in enumerate(degrees):\n",
    "    print(f\"因素{i+1}与参考因素的关联度: {degree}\")"
   ]
  }
 ],
 "metadata": {
  "kernelspec": {
   "display_name": "base",
   "language": "python",
   "name": "python3"
  },
  "language_info": {
   "codemirror_mode": {
    "name": "ipython",
    "version": 3
   },
   "file_extension": ".py",
   "mimetype": "text/x-python",
   "name": "python",
   "nbconvert_exporter": "python",
   "pygments_lexer": "ipython3",
   "version": "3.12.4"
  }
 },
 "nbformat": 4,
 "nbformat_minor": 2
}
